{
 "cells": [
  {
   "cell_type": "markdown",
   "metadata": {},
   "source": [
    "# Part 4: AST Debugging Tools\n",
    "\n",
    "This notebook covers essential debugging and introspection tools for working with Python's AST module.\n",
    "\n",
    "## Prerequisites\n",
    "\n",
    "This is part 4 of the AST guide series. Before proceeding, make sure you're familiar with:\n",
    "- Part 1: AST Core Concepts - Understanding nodes and the visitor pattern\n",
    "- Part 2: Essential Node Types - Function, class, call, and assignment nodes\n",
    "- Part 3: Practical Techniques - Scope tracking and name resolution\n",
    "\n",
    "## What You'll Learn\n",
    "\n",
    "- How to use `ast.dump()` for debugging AST structures\n",
    "- Defensive programming with node type checking\n",
    "- Safe navigation of AST node hierarchies\n",
    "- Common debugging patterns and helper functions\n",
    "\n",
    "## Import Required Modules"
   ]
  },
  {
   "cell_type": "code",
   "execution_count": 1,
   "metadata": {},
   "outputs": [],
   "source": [
    "import ast\n",
    "from typing import Optional"
   ]
  },
  {
   "cell_type": "markdown",
   "metadata": {},
   "source": [
    "## 17. Using ast.dump() for Debugging\n",
    "\n",
    "The `ast.dump()` function is your most powerful debugging tool when working with AST. It shows you the exact structure of any AST node, including all its attributes and nested nodes. This is invaluable when you're trying to understand why your visitor isn't matching certain patterns or when you're exploring how Python represents unfamiliar syntax.\n",
    "\n",
    "The `indent` parameter (added in Python 3.9) makes the output much more readable. For older Python versions, you can use `ast.dump(node)` without indentation, though it's harder to read. You can also use the `annotate_fields` parameter to show field names, which helps understand the structure."
   ]
  },
  {
   "cell_type": "code",
   "execution_count": 2,
   "metadata": {},
   "outputs": [
    {
     "name": "stdout",
     "output_type": "stream",
     "text": [
      "Basic dump:\n",
      "Module(body=[ClassDef(name='Handler', body=[FunctionDef(name='process', args=arguments(args=[arg(arg='self'), arg(arg='data', annotation=Subscript(value=Name(id='List', ctx=Load()), slice=Name(id='str', ctx=Load()), ctx=Load()))]), body=[Return(value=IfExp(test=Name(id='data', ctx=Load()), body=Call(func=Attribute(value=Name(id='self', ctx=Load()), attr='transform', ctx=Load()), args=[Name(id='data', ctx=Load())]), orelse=Constant(value=None)))], returns=Subscript(value=Name(id='Optional', ctx=Load()), slice=Name(id='Result', ctx=Load()), ctx=Load()))])])\n"
     ]
    }
   ],
   "source": [
    "# Complex code to analyze\n",
    "code = \"\"\"\n",
    "class Handler:\n",
    "    def process(self, data: List[str]) -> Optional[Result]:\n",
    "        return self.transform(data) if data else None\n",
    "\"\"\"\n",
    "\n",
    "tree = ast.parse(code)\n",
    "\n",
    "# Basic dump - hard to read\n",
    "print(\"Basic dump:\")\n",
    "print(ast.dump(tree))  # Everything on one line!"
   ]
  },
  {
   "cell_type": "code",
   "execution_count": 3,
   "metadata": {},
   "outputs": [
    {
     "name": "stdout",
     "output_type": "stream",
     "text": [
      "\n",
      "Indented dump:\n",
      "Module(\n",
      "  body=[\n",
      "    ClassDef(\n",
      "      name='Handler',\n",
      "      body=[\n",
      "        FunctionDef(\n",
      "          name='process',\n",
      "          args=arguments(\n",
      "            args=[\n",
      "              arg(arg='self'),\n",
      "              arg(\n",
      "                arg='data',\n",
      "                annotation=Subscript(\n",
      "                  value=Name(id='List', ctx=Load()),\n",
      "                  slice=Name(id='str', ctx=Load()),\n",
      "                  ctx=Load()))]),\n",
      "          body=[\n",
      "            Return(\n",
      "              value=IfExp(\n",
      "                test=Name(id='data', ctx=Load()),\n",
      "                body=Call(\n",
      "                  func=Attribute(\n",
      "                    value=Name(id='self', ctx=Load()),\n",
      "                    attr='transform',\n",
      "                    ctx=Load()),\n",
      "                  args=[\n",
      "                    Name(id='data', ctx=Load())]),\n",
      "                orelse=Constant(value=None)))],\n",
      "          returns=Subscript(\n",
      "            value=Name(id='Optional', ctx=Load()),\n",
      "            slice=Name(id='Result', ctx=Load()),\n",
      "            ctx=Load()))])])\n"
     ]
    }
   ],
   "source": [
    "# With indentation (Python 3.9+) - much better\n",
    "print(\"\\nIndented dump:\")\n",
    "print(ast.dump(tree, indent=2))"
   ]
  },
  {
   "cell_type": "code",
   "execution_count": 4,
   "metadata": {},
   "outputs": [
    {
     "name": "stdout",
     "output_type": "stream",
     "text": [
      "\n",
      "Just the function node:\n",
      "FunctionDef(\n",
      "  name='process',\n",
      "  args=arguments(\n",
      "    args=[\n",
      "      arg(arg='self'),\n",
      "      arg(\n",
      "        arg='data',\n",
      "        annotation=Subscript(\n",
      "          value=Name(id='List', ctx=Load()),\n",
      "          slice=Name(id='str', ctx=Load()),\n",
      "          ctx=Load()))]),\n",
      "  body=[\n",
      "    Return(\n",
      "      value=IfExp(\n",
      "        test=Name(id='data', ctx=Load()),\n",
      "        body=Call(\n",
      "          func=Attribute(\n",
      "            value=Name(id='self', ctx=Load()),\n",
      "            attr='transform',\n",
      "            ctx=Load()),\n",
      "          args=[\n",
      "            Name(id='data', ctx=Load())]),\n",
      "        orelse=Constant(value=None)))],\n",
      "  returns=Subscript(\n",
      "    value=Name(id='Optional', ctx=Load()),\n",
      "    slice=Name(id='Result', ctx=Load()),\n",
      "    ctx=Load()))\n"
     ]
    }
   ],
   "source": [
    "# Focusing on specific nodes\n",
    "for node in ast.walk(tree):\n",
    "    if isinstance(node, ast.FunctionDef):\n",
    "        print(\"\\nJust the function node:\")\n",
    "        print(ast.dump(node, indent=2))"
   ]
  },
  {
   "cell_type": "code",
   "execution_count": 5,
   "metadata": {},
   "outputs": [
    {
     "name": "stdout",
     "output_type": "stream",
     "text": [
      "\n",
      "Debugging a specific pattern:\n",
      "Module(\n",
      "  body=[\n",
      "    Assign(\n",
      "      targets=[\n",
      "        Name(id='result', ctx=Store())],\n",
      "      value=Call(\n",
      "        func=Attribute(\n",
      "          value=Name(id='obj', ctx=Load()),\n",
      "          attr='method',\n",
      "          ctx=Load()),\n",
      "        keywords=[\n",
      "          keyword(\n",
      "            arg='x',\n",
      "            value=Constant(value=10)),\n",
      "          keyword(\n",
      "            arg='y',\n",
      "            value=Constant(value=20))]))])\n"
     ]
    }
   ],
   "source": [
    "# Advanced: Custom filtering to show only what you care about\n",
    "def dump_calls_only(node, level=0):\n",
    "    \"\"\"Recursively find and dump only Call nodes.\"\"\"\n",
    "    indent = \"  \" * level\n",
    "    if isinstance(node, ast.Call):\n",
    "        print(f\"{indent}Call found:\")\n",
    "        print(ast.dump(node, indent=2))\n",
    "\n",
    "    for child in ast.iter_child_nodes(node):\n",
    "        dump_calls_only(child, level + 1)\n",
    "\n",
    "\n",
    "# Practical debugging scenario\n",
    "debug_code = \"result = obj.method(x=10, y=20)\"\n",
    "debug_tree = ast.parse(debug_code)\n",
    "\n",
    "print(\"\\nDebugging a specific pattern:\")\n",
    "print(ast.dump(debug_tree, indent=2))"
   ]
  },
  {
   "cell_type": "markdown",
   "metadata": {},
   "source": [
    "This shows us:\n",
    "- The Call node structure\n",
    "- How keyword arguments are represented\n",
    "- The exact nesting of Attribute and Name nodes"
   ]
  },
  {
   "cell_type": "code",
   "execution_count": 6,
   "metadata": {},
   "outputs": [
    {
     "name": "stdout",
     "output_type": "stream",
     "text": [
      "Code: calc.add(1, 2)\n",
      "Module(\n",
      "  body=[\n",
      "    Expr(\n",
      "      value=Call(\n",
      "        func=Attribute(\n",
      "          value=Name(id='calc', ctx=Load()),\n",
      "          attr='add',\n",
      "          ctx=Load()),\n",
      "        args=[\n",
      "          Constant(value=1),\n",
      "          Constant(value=2)]))])\n"
     ]
    },
    {
     "data": {
      "text/plain": [
       "<ast.Module at 0xffff980ba0d0>"
      ]
     },
     "execution_count": 6,
     "metadata": {},
     "output_type": "execute_result"
    }
   ],
   "source": [
    "# Pro tip: Create a helper function for debugging\n",
    "def debug_ast(code_snippet):\n",
    "    \"\"\"Quick AST debugging helper.\"\"\"\n",
    "    print(f\"Code: {code_snippet}\")\n",
    "    tree = ast.parse(code_snippet)\n",
    "    print(ast.dump(tree, indent=2))\n",
    "    return tree\n",
    "\n",
    "\n",
    "# Use it for quick tests:\n",
    "debug_ast(\"calc.add(1, 2)\")"
   ]
  },
  {
   "cell_type": "code",
   "execution_count": 7,
   "metadata": {},
   "outputs": [
    {
     "name": "stdout",
     "output_type": "stream",
     "text": [
      "Code: Calculator()\n",
      "Module(\n",
      "  body=[\n",
      "    Expr(\n",
      "      value=Call(\n",
      "        func=Name(id='Calculator', ctx=Load())))])\n"
     ]
    },
    {
     "data": {
      "text/plain": [
       "<ast.Module at 0xffff980e3610>"
      ]
     },
     "execution_count": 7,
     "metadata": {},
     "output_type": "execute_result"
    }
   ],
   "source": [
    "debug_ast(\"Calculator()\")"
   ]
  },
  {
   "cell_type": "code",
   "execution_count": 8,
   "metadata": {},
   "outputs": [
    {
     "name": "stdout",
     "output_type": "stream",
     "text": [
      "Code: x: int = 5\n",
      "Module(\n",
      "  body=[\n",
      "    AnnAssign(\n",
      "      target=Name(id='x', ctx=Store()),\n",
      "      annotation=Name(id='int', ctx=Load()),\n",
      "      value=Constant(value=5),\n",
      "      simple=1)])\n"
     ]
    },
    {
     "data": {
      "text/plain": [
       "<ast.Module at 0xffff980cd390>"
      ]
     },
     "execution_count": 8,
     "metadata": {},
     "output_type": "execute_result"
    }
   ],
   "source": [
    "debug_ast(\"x: int = 5\")"
   ]
  },
  {
   "cell_type": "markdown",
   "metadata": {},
   "source": [
    "## 18. Checking Node Types\n",
    "\n",
    "Defensive programming is crucial when working with AST. Never assume a node has certain attributes - always check types first. This prevents crashes when encountering unexpected code patterns. The isinstance checks might seem verbose, but they make your code robust against edge cases and malformed input."
   ]
  },
  {
   "cell_type": "code",
   "execution_count": null,
   "metadata": {},
   "outputs": [],
   "source": [
    "# Example of defensive AST navigation\n",
    "class SafeCallAnalyzer(ast.NodeVisitor):\n",
    "    def visit_Call(self, node):\n",
    "        print(\"Analyzing call:\")\n",
    "\n",
    "        # WRONG - Fragile approach that will crash:\n",
    "        # method_name = node.func.attr  # AttributeError if func isn't Attribute!\n",
    "\n",
    "        # RIGHT - Defensive approach with type checking:\n",
    "        if isinstance(node.func, ast.Attribute):\n",
    "            # Now safe to access .attr\n",
    "            method_name = node.func.attr\n",
    "            print(f\"  Method/attribute call: .{method_name}()\")\n",
    "\n",
    "            # Continue drilling down safely\n",
    "            if isinstance(node.func.value, ast.Name):\n",
    "                obj_name = node.func.value.id\n",
    "                print(f\"    On object: {obj_name}\")\n",
    "\n",
    "                # Can now safely build the full call\n",
    "                full_call = f\"{obj_name}.{method_name}\"\n",
    "                print(f\"    Full call: {full_call}()\")\n",
    "\n",
    "            elif isinstance(node.func.value, ast.Attribute):\n",
    "                print(\"    On nested attribute access\")\n",
    "                # Handle module.class.method() patterns\n",
    "\n",
    "            elif isinstance(node.func.value, ast.Call):\n",
    "                print(\"    On call result (chained call)\")\n",
    "                # Handle get_obj().method() patterns\n",
    "\n",
    "        elif isinstance(node.func, ast.Name):\n",
    "            func_name = node.func.id\n",
    "            print(f\"  Simple function call: {func_name}()\")\n",
    "\n",
    "        elif isinstance(node.func, ast.Lambda):\n",
    "            print(\"  Lambda call: (lambda ...)(...)\")\n",
    "\n",
    "        else:\n",
    "            # Always have a fallback for unexpected patterns\n",
    "            print(f\"  Unexpected call pattern: {type(node.func).__name__}\")\n",
    "\n",
    "        # Safe argument checking\n",
    "        if hasattr(node, \"args\"):  # Should always be true for Call\n",
    "            print(f\"  Args count: {len(node.args)}\")\n",
    "\n",
    "            # Safely analyze each argument\n",
    "            for i, arg in enumerate(node.args):\n",
    "                if isinstance(arg, ast.Constant):\n",
    "                    print(f\"    Arg {i}: constant {arg.value}\")\n",
    "                elif isinstance(arg, ast.Name):\n",
    "                    print(f\"    Arg {i}: variable {arg.id}\")\n",
    "                else:\n",
    "                    print(f\"    Arg {i}: {type(arg).__name__}\")\n",
    "\n",
    "        # Safe keyword argument checking\n",
    "        if hasattr(node, \"keywords\"):\n",
    "            for kw in node.keywords:\n",
    "                if kw.arg:  # Named keyword argument\n",
    "                    print(f\"  Keyword arg: {kw.arg}=...\")\n",
    "                else:  # **kwargs expansion\n",
    "                    print(\"  Keyword expansion: **...\")\n",
    "\n",
    "        self.generic_visit(node)"
   ]
  },
  {
   "cell_type": "code",
   "execution_count": 10,
   "metadata": {},
   "outputs": [
    {
     "name": "stdout",
     "output_type": "stream",
     "text": [
      "Analyzing call:\n",
      "  Simple function call: simple_call()\n",
      "  Args count: 0\n",
      "Analyzing call:\n",
      "  Method/attribute call: .method()\n",
      "    On object: obj\n",
      "    Full call: obj.method()\n",
      "  Args count: 0\n",
      "Analyzing call:\n",
      "  Method/attribute call: .func()\n",
      "    On nested attribute access\n",
      "  Args count: 0\n",
      "Analyzing call:\n",
      "  Method/attribute call: .process()\n",
      "    On call result (chained call)\n",
      "  Args count: 0\n",
      "Analyzing call:\n",
      "  Simple function call: get_handler()\n",
      "  Args count: 0\n",
      "Analyzing call:\n",
      "  Lambda call: (lambda ...)(...)\n",
      "  Args count: 1\n",
      "    Arg 0: constant 5\n",
      "Analyzing call:\n",
      "  Simple function call: func()\n",
      "  Args count: 2\n",
      "    Arg 0: constant 1\n",
      "    Arg 1: constant 2\n",
      "  Keyword arg: x=...\n",
      "  Keyword arg: y=...\n",
      "Analyzing call:\n",
      "  Simple function call: call()\n",
      "  Args count: 1\n",
      "    Arg 0: Starred\n",
      "  Keyword expansion: **...\n"
     ]
    }
   ],
   "source": [
    "# Test with various call patterns\n",
    "test_code = \"\"\"\n",
    "# Different call patterns to test robustness\n",
    "simple_call()\n",
    "obj.method()\n",
    "module.sub.func()\n",
    "get_handler().process()\n",
    "(lambda x: x + 1)(5)\n",
    "func(1, 2, x=3, y=4)\n",
    "call(*args, **kwargs)\n",
    "\"\"\"\n",
    "\n",
    "tree = ast.parse(test_code)\n",
    "analyzer = SafeCallAnalyzer()\n",
    "analyzer.visit(tree)"
   ]
  },
  {
   "cell_type": "markdown",
   "metadata": {},
   "source": [
    "### Safe Attribute Chain Extraction\n",
    "\n",
    "A common need is extracting full attribute chains like `module.submodule.function`. Here's a robust way to do it:"
   ]
  },
  {
   "cell_type": "code",
   "execution_count": 11,
   "metadata": {},
   "outputs": [
    {
     "name": "stdout",
     "output_type": "stream",
     "text": [
      "Attribute chain: module.sub.func\n"
     ]
    }
   ],
   "source": [
    "# Common pattern: Building a safe attribute chain extractor\n",
    "def get_attribute_chain(node) -> Optional[str]:\n",
    "    \"\"\"Safely extract full attribute chain like 'a.b.c.d'.\"\"\"\n",
    "    parts = []\n",
    "\n",
    "    current = node\n",
    "    while isinstance(current, ast.Attribute):\n",
    "        parts.append(current.attr)\n",
    "        current = current.value\n",
    "\n",
    "    # The base should be a Name\n",
    "    if isinstance(current, ast.Name):\n",
    "        parts.append(current.id)\n",
    "        parts.reverse()\n",
    "        return \".\".join(parts)\n",
    "\n",
    "    # If not, we have a complex base (like a call or subscript)\n",
    "    return None  # Can't represent as simple chain\n",
    "\n",
    "\n",
    "# Test the function\n",
    "test_chain = ast.parse(\"module.sub.func\").body[0].value\n",
    "print(f\"Attribute chain: {get_attribute_chain(test_chain)}\")"
   ]
  },
  {
   "cell_type": "code",
   "execution_count": null,
   "metadata": {},
   "outputs": [
    {
     "name": "stdout",
     "output_type": "stream",
     "text": [
      "simple_name          -> simple_name\n",
      "obj.method           -> obj.method\n",
      "module.submodule.function -> module.submodule.function\n",
      "get_obj().method     -> None\n",
      "obj[0].method        -> None\n"
     ]
    }
   ],
   "source": [
    "# Test with more complex cases\n",
    "test_cases = [\n",
    "    \"simple_name\",\n",
    "    \"obj.method\",\n",
    "    \"module.submodule.function\",\n",
    "    \"get_obj().method\",  # This should return None\n",
    "    \"obj[0].method\",     # This should return None\n",
    "]\n",
    "\n",
    "for case in test_cases:\n",
    "    try:\n",
    "        node = ast.parse(case).body[0].value\n",
    "        result = get_attribute_chain(node)\n",
    "        print(f\"{case:20} -> {result}\")\n",
    "    except Exception as e:\n",
    "        print(f\"{case:20} -> Error: {e}\")"
   ]
  },
  {
   "cell_type": "markdown",
   "metadata": {},
   "source": [
    "### Node Type Checking Patterns\n",
    "\n",
    "Here are common defensive patterns you should use:"
   ]
  },
  {
   "cell_type": "code",
   "execution_count": null,
   "metadata": {},
   "outputs": [
    {
     "name": "stdout",
     "output_type": "stream",
     "text": [
      "\n",
      "func():\n",
      "  call_type: function\n",
      "  function_name: func\n",
      "  object_name: None\n",
      "  attribute_chain: None\n",
      "  arg_count: 0\n",
      "  has_kwargs: False\n",
      "  has_starargs: False\n",
      "\n",
      "obj.method(1, 2):\n",
      "  call_type: method\n",
      "  function_name: method\n",
      "  object_name: obj\n",
      "  attribute_chain: obj.method\n",
      "  arg_count: 2\n",
      "  has_kwargs: False\n",
      "  has_starargs: False\n",
      "\n",
      "module.sub.func(x=1):\n",
      "  call_type: method\n",
      "  function_name: func\n",
      "  object_name: None\n",
      "  attribute_chain: module.sub.func\n",
      "  arg_count: 0\n",
      "  has_kwargs: False\n",
      "  has_starargs: False\n",
      "\n",
      "call(*args, **kwargs):\n",
      "  call_type: function\n",
      "  function_name: call\n",
      "  object_name: None\n",
      "  attribute_chain: None\n",
      "  arg_count: 1\n",
      "  has_kwargs: True\n",
      "  has_starargs: True\n",
      "\n",
      "get_handler().process(data):\n",
      "  call_type: method\n",
      "  function_name: process\n",
      "  object_name: None\n",
      "  attribute_chain: None\n",
      "  arg_count: 1\n",
      "  has_kwargs: False\n",
      "  has_starargs: False\n"
     ]
    }
   ],
   "source": [
    "def analyze_function_call(call_node: ast.Call) -> dict:\n",
    "    \"\"\"Example of comprehensive defensive analysis.\"\"\"\n",
    "    result = {\n",
    "        \"call_type\": \"unknown\",\n",
    "        \"function_name\": None,\n",
    "        \"object_name\": None,\n",
    "        \"attribute_chain\": None,\n",
    "        \"arg_count\": 0,\n",
    "        \"has_kwargs\": False,\n",
    "        \"has_starargs\": False\n",
    "    }\n",
    "\n",
    "    # Safely analyze the function being called\n",
    "    if isinstance(call_node.func, ast.Name):\n",
    "        result[\"call_type\"] = \"function\"\n",
    "        result[\"function_name\"] = call_node.func.id\n",
    "\n",
    "    elif isinstance(call_node.func, ast.Attribute):\n",
    "        result[\"call_type\"] = \"method\"\n",
    "        result[\"function_name\"] = call_node.func.attr\n",
    "        result[\"attribute_chain\"] = get_attribute_chain(call_node.func)\n",
    "\n",
    "        # Try to get the object name if it's simple\n",
    "        if isinstance(call_node.func.value, ast.Name):\n",
    "            result[\"object_name\"] = call_node.func.value.id\n",
    "\n",
    "    # Safely count arguments\n",
    "    if hasattr(call_node, \"args\"):\n",
    "        result[\"arg_count\"] = len(call_node.args)\n",
    "\n",
    "        # Check for *args\n",
    "        for arg in call_node.args:\n",
    "            if isinstance(arg, ast.Starred):\n",
    "                result[\"has_starargs\"] = True\n",
    "                break\n",
    "\n",
    "    # Check for **kwargs\n",
    "    if hasattr(call_node, \"keywords\"):\n",
    "        for kw in call_node.keywords:\n",
    "            if kw.arg is None:  # **kwargs\n",
    "                result[\"has_kwargs\"] = True\n",
    "                break\n",
    "\n",
    "    return result\n",
    "\n",
    "\n",
    "# Test the analyzer\n",
    "test_calls = [\n",
    "    \"func()\",\n",
    "    \"obj.method(1, 2)\",\n",
    "    \"module.sub.func(x=1)\",\n",
    "    \"call(*args, **kwargs)\",\n",
    "    \"get_handler().process(data)\"\n",
    "]\n",
    "\n",
    "for call in test_calls:\n",
    "    tree = ast.parse(call)\n",
    "    call_node = tree.body[0].value  # Extract the Call node\n",
    "    analysis = analyze_function_call(call_node)\n",
    "    print(f\"\\n{call}:\")\n",
    "    for key, value in analysis.items():\n",
    "        print(f\"  {key}: {value}\")"
   ]
  },
  {
   "cell_type": "markdown",
   "metadata": {},
   "source": [
    "### Advanced Debugging: Custom AST Dumper\n",
    "\n",
    "Sometimes you want more control over how AST nodes are displayed:"
   ]
  },
  {
   "cell_type": "code",
   "execution_count": null,
   "metadata": {},
   "outputs": [
    {
     "name": "stdout",
     "output_type": "stream",
     "text": [
      "Custom dump with line numbers:\n",
      "Module\n",
      "  FunctionDef (line 2)\n",
      "    name: example\n",
      "    arguments\n",
      "      arg (line 2)\n",
      "        Name (line 2)\n",
      "          id: int\n",
      "          Load\n",
      "    Assign (line 3)\n",
      "      Name (line 3)\n",
      "        id: result\n",
      "        Store\n",
      "      Call (line 3)\n",
      "        Attribute (line 3)\n",
      "          attr: method\n",
      "          Name (line 3)\n",
      "            id: obj\n",
      "            Load\n",
      "          Load\n",
      "        Name (line 3)\n",
      "          id: x\n",
      "          Load\n",
      "    Return (line 4)\n",
      "      Call (line 4)\n",
      "        Name (line 4)\n",
      "          id: str\n",
      "          Load\n",
      "        Name (line 4)\n",
      "          id: result\n",
      "          Load\n",
      "    Name (line 2)\n",
      "      id: str\n",
      "      Load\n"
     ]
    }
   ],
   "source": [
    "def custom_dump(node, indent=0, show_lineno=False):\n",
    "    \"\"\"Custom AST dumper with more control over output.\"\"\"\n",
    "    spaces = \"  \" * indent\n",
    "    node_name = type(node).__name__\n",
    "\n",
    "    # Add line number if requested and available\n",
    "    lineno_str = \"\"\n",
    "    if show_lineno and hasattr(node, 'lineno'):\n",
    "        lineno_str = f\" (line {node.lineno})\"\n",
    "\n",
    "    print(f\"{spaces}{node_name}{lineno_str}\")\n",
    "\n",
    "    # Show important attributes\n",
    "    if isinstance(node, ast.Name):\n",
    "        print(f\"{spaces}  id: {node.id}\")\n",
    "    elif isinstance(node, ast.Constant):\n",
    "        print(f\"{spaces}  value: {repr(node.value)}\")\n",
    "    elif isinstance(node, ast.FunctionDef):\n",
    "        print(f\"{spaces}  name: {node.name}\")\n",
    "    elif isinstance(node, ast.Attribute):\n",
    "        print(f\"{spaces}  attr: {node.attr}\")\n",
    "\n",
    "    # Recursively dump children\n",
    "    for child in ast.iter_child_nodes(node):\n",
    "        custom_dump(child, indent + 1, show_lineno)\n",
    "\n",
    "\n",
    "# Test the custom dumper\n",
    "sample_code = \"\"\"\n",
    "def example(x: int) -> str:\n",
    "    result = obj.method(x)\n",
    "    return str(result)\n",
    "\"\"\"\n",
    "\n",
    "tree = ast.parse(sample_code)\n",
    "print(\"Custom dump with line numbers:\")\n",
    "custom_dump(tree, show_lineno=True)"
   ]
  },
  {
   "cell_type": "markdown",
   "metadata": {},
   "source": [
    "## Key Takeaways\n",
    "\n",
    "### Debugging Best Practices\n",
    "\n",
    "1. **Always use `ast.dump()` with indentation** when debugging AST structures\n",
    "2. **Create helper functions** like `debug_ast()` for quick testing\n",
    "3. **Focus on specific node types** rather than dumping entire trees\n",
    "4. **Use custom dumpers** when you need specific information highlighted\n",
    "\n",
    "### Defensive Programming\n",
    "\n",
    "1. **Always check node types** with `isinstance()` before accessing attributes\n",
    "2. **Use `hasattr()`** to check for optional attributes\n",
    "3. **Provide fallbacks** for unexpected node patterns\n",
    "4. **Build utility functions** for common operations like attribute chain extraction\n",
    "\n",
    "### Common Patterns\n",
    "\n",
    "- Use `isinstance(node, ast.NodeType)` for type checking\n",
    "- Use `hasattr(node, 'attribute')` for optional attributes  \n",
    "- Build comprehensive analysis functions that return structured data\n",
    "- Always call `self.generic_visit(node)` in visitor methods\n",
    "\n",
    "## Next Steps\n",
    "\n",
    "Continue with **Part 5: Advanced AST Patterns** to learn about:\n",
    "- Complex visitor patterns\n",
    "- AST transformation and modification\n",
    "- Performance optimization techniques\n",
    "- Real-world AST applications"
   ]
  }
 ],
 "metadata": {
  "kernelspec": {
   "display_name": "annotation-prioritizer",
   "language": "python",
   "name": "python3"
  },
  "language_info": {
   "codemirror_mode": {
    "name": "ipython",
    "version": 3
   },
   "file_extension": ".py",
   "mimetype": "text/x-python",
   "name": "python",
   "nbconvert_exporter": "python",
   "pygments_lexer": "ipython3",
   "version": "3.13.7"
  }
 },
 "nbformat": 4,
 "nbformat_minor": 4
}
