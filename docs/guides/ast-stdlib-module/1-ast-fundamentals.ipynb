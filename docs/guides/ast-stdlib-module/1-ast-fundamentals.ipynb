{
 "cells": [
  {
   "cell_type": "markdown",
   "metadata": {},
   "source": [
    "# Python AST Fundamentals - Part 1 of 6\n",
    "\n",
    "**Note**: This is part 1 of 6 in the AST guide series for Python static analysis. This part covers fundamental AST concepts and function-related nodes.\n",
    "\n",
    "## Overview\n",
    "This guide covers the essential AST concepts needed for building static analysis tools, particularly for implementing scope-aware variable tracking and method call attribution. The AST module allows us to analyze Python code structure without executing it, which is perfect for static analysis tools that need to understand code relationships and patterns."
   ]
  },
  {
   "cell_type": "markdown",
   "metadata": {},
   "source": [
    "### 1. What is an AST?\n",
    "An Abstract Syntax Tree is a tree representation of Python source code structure. Unlike the raw source text, an AST represents the logical structure of the code, with each node representing a syntactic construct (function, class, expression, statement, etc.). The \"abstract\" part means it omits syntactic details like parentheses, commas, and whitespace that don't affect the code's meaning.\n",
    "\n",
    "The AST is crucial for static analysis tools because it lets us traverse and analyze Python code systematically. When we parse a Python file, we get a tree where we can visit each function definition, track every function call, and understand the relationships between classes and methods."
   ]
  },
  {
   "cell_type": "markdown",
   "metadata": {},
   "source": [
    "Here's what the AST structure looks like for simple code:\n",
    "\n",
    "```python\n",
    "# Source code:\n",
    "x = 5 + 3\n",
    "print(x)\n",
    "\n",
    "# Becomes this tree:\n",
    "Module(\n",
    "  body=[\n",
    "    Assign(\n",
    "      targets=[Name(id='x', ctx=Store())],\n",
    "      value=BinOp(\n",
    "        left=Constant(value=5),\n",
    "        op=Add(),\n",
    "        right=Constant(value=3)\n",
    "      )\n",
    "    ),\n",
    "    Expr(\n",
    "      value=Call(\n",
    "        func=Name(id='print', ctx=Load()),\n",
    "        args=[Name(id='x', ctx=Load())],\n",
    "        keywords=[]\n",
    "      )\n",
    "    )\n",
    "  ]\n",
    ")\n",
    "```"
   ]
  },
  {
   "cell_type": "code",
   "execution_count": 1,
   "metadata": {},
   "outputs": [
    {
     "name": "stdout",
     "output_type": "stream",
     "text": [
      "Module(\n",
      "  body=[\n",
      "    Assign(\n",
      "      targets=[\n",
      "        Name(id='x', ctx=Store())],\n",
      "      value=BinOp(\n",
      "        left=Constant(value=5),\n",
      "        op=Add(),\n",
      "        right=Constant(value=3)))])\n"
     ]
    }
   ],
   "source": [
    "# To parse and inspect:\n",
    "import ast\n",
    "\n",
    "code = \"x = 5 + 3\"\n",
    "tree = ast.parse(code)\n",
    "print(ast.dump(tree, indent=2))  # Pretty-prints the tree structure"
   ]
  },
  {
   "cell_type": "markdown",
   "metadata": {},
   "source": [
    "Every node in the tree has a type (like Module, Assign, BinOp) and attributes specific to that type. Nodes also carry location information (line numbers, column offsets) that we use to report where functions are defined in the original source."
   ]
  },
  {
   "cell_type": "markdown",
   "metadata": {},
   "source": [
    "### 2. The NodeVisitor Pattern\n",
    "The NodeVisitor pattern is the heart of AST traversal in Python. It's a design pattern that lets you define what happens when you encounter each type of node without writing complex traversal logic. The `ast.NodeVisitor` base class handles the tree walking for you - you just specify what to do at each node type you care about.\n",
    "\n",
    "The visitor works through a dispatch mechanism: when it encounters a node of type `FunctionDef`, it looks for a method called `visit_FunctionDef`. If that method exists, it calls it; otherwise, it falls back to `generic_visit`, which simply visits all child nodes. This pattern is perfect for static analysis applications where we want to track specific constructs (functions, classes, calls) while ignoring others (imports, decorators)."
   ]
  },
  {
   "cell_type": "code",
   "execution_count": 2,
   "metadata": {},
   "outputs": [],
   "source": [
    "import ast\n",
    "\n",
    "\n",
    "class MyVisitor(ast.NodeVisitor):\n",
    "    def __init__(self):\n",
    "        self.functions_found = []\n",
    "        self.calls_found = []\n",
    "\n",
    "    def visit_FunctionDef(self, node):\n",
    "        # Called for each function definition\n",
    "        print(f\"Found function: {node.name} at line {node.lineno}\")\n",
    "        self.functions_found.append(node.name)\n",
    "\n",
    "        # CRITICAL: Must call this to visit the function's body!\n",
    "        self.generic_visit(node)  # Visit child nodes\n",
    "\n",
    "    def visit_Call(self, node):\n",
    "        # Called for each function/method call\n",
    "        if isinstance(node.func, ast.Name):\n",
    "            print(f\"Found call to: {node.func.id}\")\n",
    "            self.calls_found.append(node.func.id)\n",
    "        self.generic_visit(node)"
   ]
  },
  {
   "cell_type": "code",
   "execution_count": 3,
   "metadata": {},
   "outputs": [
    {
     "name": "stdout",
     "output_type": "stream",
     "text": [
      "AST structure:\n",
      "Module(\n",
      "  body=[\n",
      "    FunctionDef(\n",
      "      name='greet',\n",
      "      args=arguments(\n",
      "        args=[\n",
      "          arg(arg='name')]),\n",
      "      body=[\n",
      "        Expr(\n",
      "          value=Call(\n",
      "            func=Name(id='print', ctx=Load()),\n",
      "            args=[\n",
      "              JoinedStr(\n",
      "                values=[\n",
      "                  Constant(value='Hello, '),\n",
      "                  FormattedValue(\n",
      "                    value=Name(id='name', ctx=Load()),\n",
      "                    conversion=-1)])]))]),\n",
      "    FunctionDef(\n",
      "      name='main',\n",
      "      args=arguments(),\n",
      "      body=[\n",
      "        Expr(\n",
      "          value=Call(\n",
      "            func=Name(id='greet', ctx=Load()),\n",
      "            args=[\n",
      "              Constant(value='World')])),\n",
      "        Expr(\n",
      "          value=Call(\n",
      "            func=Name(id='print', ctx=Load()),\n",
      "            args=[\n",
      "              Constant(value='Done')]))])])\n"
     ]
    }
   ],
   "source": [
    "# Usage:\n",
    "code = \"\"\"\n",
    "def greet(name):\n",
    "    print(f\"Hello, {name}\")\n",
    "\n",
    "def main():\n",
    "    greet(\"World\")\n",
    "    print(\"Done\")\n",
    "\"\"\"\n",
    "\n",
    "tree = ast.parse(code)\n",
    "print(\"AST structure:\")\n",
    "print(ast.dump(tree, indent=2))"
   ]
  },
  {
   "cell_type": "code",
   "execution_count": 4,
   "metadata": {},
   "outputs": [
    {
     "name": "stdout",
     "output_type": "stream",
     "text": [
      "Found function: greet at line 2\n",
      "Found call to: print\n",
      "Found function: main at line 5\n",
      "Found call to: greet\n",
      "Found call to: print\n",
      "Functions: ['greet', 'main']\n",
      "Calls: ['print', 'greet', 'print']\n"
     ]
    }
   ],
   "source": [
    "visitor = MyVisitor()\n",
    "visitor.visit(tree)\n",
    "print(f\"Functions: {visitor.functions_found}\")  # ['greet', 'main']\n",
    "print(f\"Calls: {visitor.calls_found}\")  # ['print', 'greet', 'print']"
   ]
  },
  {
   "cell_type": "markdown",
   "metadata": {},
   "source": [
    "**Key insight**: The visitor automatically dispatches to `visit_ClassName` methods based on node type. If no specific method exists, it calls `generic_visit`. The traversal is depth-first, meaning it processes a node before its children (unless you override this behavior)."
   ]
  },
  {
   "cell_type": "markdown",
   "metadata": {},
   "source": [
    "### 3. Context (ctx) Attribute\n",
    "Every `Name` and `Attribute` node has a context that tells you how that name is being used in the code. The context is crucial for understanding whether we're reading from a variable, writing to it, or deleting it. This distinction is essential for variable tracking - we need to know when a variable is being assigned a value (so we can track its type) versus when it's being used (so we can resolve its type).\n",
    "\n",
    "The context appears as a `ctx` attribute on the node, and it's an instance of one of three classes:\n",
    "- `Load()`: Reading/using a value (the variable appears in an expression)\n",
    "- `Store()`: Writing/assigning a value (the variable appears on the left side of assignment)\n",
    "- `Del()`: Deleting the variable (appears in a del statement)"
   ]
  },
  {
   "cell_type": "code",
   "execution_count": 5,
   "metadata": {},
   "outputs": [
    {
     "name": "stdout",
     "output_type": "stream",
     "text": [
      "Module(\n",
      "  body=[\n",
      "    Assign(\n",
      "      targets=[\n",
      "        Name(id='x', ctx=Store())],\n",
      "      value=Constant(value=5)),\n",
      "    Assign(\n",
      "      targets=[\n",
      "        Name(id='y', ctx=Store())],\n",
      "      value=BinOp(\n",
      "        left=Name(id='x', ctx=Load()),\n",
      "        op=Add(),\n",
      "        right=Constant(value=10))),\n",
      "    Expr(\n",
      "      value=Call(\n",
      "        func=Name(id='print', ctx=Load()),\n",
      "        args=[\n",
      "          Name(id='x', ctx=Load())])),\n",
      "    Delete(\n",
      "      targets=[\n",
      "        Name(id='y', ctx=Del())]),\n",
      "    Assign(\n",
      "      targets=[\n",
      "        Attribute(\n",
      "          value=Name(id='obj', ctx=Load()),\n",
      "          attr='attr',\n",
      "          ctx=Store())],\n",
      "      value=Constant(value=20)),\n",
      "    Assign(\n",
      "      targets=[\n",
      "        Name(id='z', ctx=Store())],\n",
      "      value=Attribute(\n",
      "        value=Name(id='obj', ctx=Load()),\n",
      "        attr='attr',\n",
      "        ctx=Load()))])\n"
     ]
    }
   ],
   "source": [
    "import ast\n",
    "\n",
    "# Example showing different contexts:\n",
    "code = \"\"\"\n",
    "x = 5           # x has Store context\n",
    "y = x + 10      # y has Store context, x has Load context\n",
    "print(x)        # x has Load context\n",
    "del y           # y has Del context\n",
    "obj.attr = 20   # obj has Load context, attr is being stored to\n",
    "z = obj.attr    # z has Store context, obj has Load, attr is being loaded\n",
    "\"\"\"\n",
    "\n",
    "tree = ast.parse(code)\n",
    "print(ast.dump(tree, indent=2))"
   ]
  },
  {
   "cell_type": "code",
   "execution_count": 6,
   "metadata": {},
   "outputs": [
    {
     "name": "stdout",
     "output_type": "stream",
     "text": [
      "Variable 'x' has context: Store\n",
      "Variable 'y' has context: Store\n",
      "Variable 'x' has context: Load\n",
      "Variable 'print' has context: Load\n",
      "Variable 'x' has context: Load\n",
      "Variable 'y' has context: Del\n",
      "Attribute '.attr' has context: Store\n",
      "Variable 'obj' has context: Load\n",
      "Variable 'z' has context: Store\n",
      "Attribute '.attr' has context: Load\n",
      "Variable 'obj' has context: Load\n"
     ]
    }
   ],
   "source": [
    "class ContextInspector(ast.NodeVisitor):\n",
    "    def visit_Name(self, node):\n",
    "        context_type = type(node.ctx).__name__\n",
    "        print(f\"Variable '{node.id}' has context: {context_type}\")\n",
    "        self.generic_visit(node)\n",
    "\n",
    "    def visit_Attribute(self, node):\n",
    "        context_type = type(node.ctx).__name__\n",
    "        print(f\"Attribute '.{node.attr}' has context: {context_type}\")\n",
    "        self.generic_visit(node)\n",
    "\n",
    "\n",
    "inspector = ContextInspector()\n",
    "inspector.visit(tree)"
   ]
  },
  {
   "cell_type": "markdown",
   "metadata": {},
   "source": [
    "This is crucial for distinguishing between variable usage and assignment. In scope-aware variable tracking, we only record type information when we see Store context (assignments), and we look up type information when we see Load context (usage)."
   ]
  },
  {
   "cell_type": "markdown",
   "metadata": {},
   "source": [
    "## 4. Function-Related Nodes\n",
    "\n",
    "Function definitions are central to many static analysis tools. We need to extract function signatures, identify which parameters have type annotations, and track whether there's a return type annotation. Python has two function definition node types: `FunctionDef` for regular functions and `AsyncFunctionDef` for async functions. They have identical structure, which is why in static analysis code we often handle them with the same logic.\n",
    "\n",
    "**ast.FunctionDef / ast.AsyncFunctionDef**\n",
    "\n",
    "The function definition nodes contain everything about a function's signature and body. The `args` attribute is particularly important as it contains an `ast.arguments` object with all parameter information. The `returns` attribute holds the return type annotation if present. The `body` is a list of statement nodes representing the function's implementation."
   ]
  },
  {
   "cell_type": "code",
   "execution_count": 7,
   "metadata": {},
   "outputs": [
    {
     "name": "stdout",
     "output_type": "stream",
     "text": [
      "Module(\n",
      "  body=[\n",
      "    FunctionDef(\n",
      "      name='regular_function',\n",
      "      args=arguments(\n",
      "        args=[\n",
      "          arg(\n",
      "            arg='a',\n",
      "            annotation=Name(id='int', ctx=Load())),\n",
      "          arg(arg='b')],\n",
      "        vararg=arg(arg='args'),\n",
      "        kwarg=arg(arg='kwargs'),\n",
      "        defaults=[\n",
      "          Constant(value=5)]),\n",
      "      body=[\n",
      "        Expr(\n",
      "          value=Constant(value='A docstring')),\n",
      "        Return(\n",
      "          value=Call(\n",
      "            func=Name(id='str', ctx=Load()),\n",
      "            args=[\n",
      "              BinOp(\n",
      "                left=Name(id='a', ctx=Load()),\n",
      "                op=Add(),\n",
      "                right=Name(id='b', ctx=Load()))]))],\n",
      "      returns=Name(id='str', ctx=Load())),\n",
      "    AsyncFunctionDef(\n",
      "      name='async_function',\n",
      "      args=arguments(\n",
      "        args=[\n",
      "          arg(\n",
      "            arg='x',\n",
      "            annotation=Name(id='float', ctx=Load()))]),\n",
      "      body=[\n",
      "        Expr(\n",
      "          value=Await(\n",
      "            value=Call(\n",
      "              func=Name(id='some_operation', ctx=Load()),\n",
      "              args=[\n",
      "                Name(id='x', ctx=Load())])))],\n",
      "      returns=Constant(value=None))])\n"
     ]
    }
   ],
   "source": [
    "import ast\n",
    "\n",
    "code = \"\"\"\n",
    "def regular_function(a: int, b=5, *args, **kwargs) -> str:\n",
    "    '''A docstring'''\n",
    "    return str(a + b)\n",
    "\n",
    "async def async_function(x: float) -> None:\n",
    "    await some_operation(x)\n",
    "\"\"\"\n",
    "\n",
    "tree = ast.parse(code)\n",
    "print(ast.dump(tree, indent=2))"
   ]
  },
  {
   "cell_type": "code",
   "execution_count": 8,
   "metadata": {},
   "outputs": [
    {
     "name": "stdout",
     "output_type": "stream",
     "text": [
      "Function: regular_function\n",
      "  Line: 2\n",
      "  Has return annotation: True\n",
      "  Return type: str\n",
      "  Number of decorators: 0\n",
      "  Body has 2 statements\n",
      "  Has docstring: Yes\n",
      "Async Function: async_function\n",
      "  Line: 6\n",
      "  Has return annotation: True\n",
      "  Number of decorators: 0\n",
      "  Body has 1 statements\n"
     ]
    }
   ],
   "source": [
    "class FunctionAnalyzer(ast.NodeVisitor):\n",
    "    def visit_FunctionDef(self, node):\n",
    "        self._analyze_function(node, is_async=False)\n",
    "\n",
    "    def visit_AsyncFunctionDef(self, node):\n",
    "        self._analyze_function(node, is_async=True)\n",
    "\n",
    "    def _analyze_function(self, node, is_async):\n",
    "        print(f\"{'Async ' if is_async else ''}Function: {node.name}\")\n",
    "        print(f\"  Line: {node.lineno}\")\n",
    "        print(f\"  Has return annotation: {node.returns is not None}\")\n",
    "        if node.returns and isinstance(node.returns, ast.Name):\n",
    "            print(f\"  Return type: {node.returns.id}\")\n",
    "        print(f\"  Number of decorators: {len(node.decorator_list)}\")\n",
    "        print(f\"  Body has {len(node.body)} statements\")\n",
    "\n",
    "        # The first statement might be a docstring\n",
    "        if node.body and isinstance(node.body[0], ast.Expr):\n",
    "            if isinstance(node.body[0].value, ast.Constant):\n",
    "                if isinstance(node.body[0].value.value, str):\n",
    "                    print(\"  Has docstring: Yes\")\n",
    "\n",
    "\n",
    "analyzer = FunctionAnalyzer()\n",
    "analyzer.visit(tree)"
   ]
  },
  {
   "cell_type": "markdown",
   "metadata": {},
   "source": [
    "**ast.arguments** (function parameters)\n",
    "\n",
    "The `arguments` object is complex because Python supports many parameter types. Each parameter is represented as an `ast.arg` object with `arg` (the name) and `annotation` (the type hint) attributes. Parameters are grouped by their kind, and you need to check multiple lists to get all parameters."
   ]
  },
  {
   "cell_type": "code",
   "execution_count": 9,
   "metadata": {},
   "outputs": [],
   "source": [
    "def analyze_parameters(func_node):\n",
    "    \"\"\"Detailed parameter analysis for a function node.\"\"\"\n",
    "    args = func_node.args\n",
    "\n",
    "    print(f\"Analyzing parameters for: {func_node.name}\")\n",
    "\n",
    "    # Regular positional arguments (most common)\n",
    "    for arg in args.args:\n",
    "        annotation = \"annotated\" if arg.annotation else \"not annotated\"\n",
    "        print(f\"  Regular arg: {arg.arg} ({annotation})\")\n",
    "\n",
    "    # Positional-only arguments (before / in signature) - Python 3.8+\n",
    "    for arg in args.posonlyargs:\n",
    "        annotation = \"annotated\" if arg.annotation else \"not annotated\"\n",
    "        print(f\"  Positional-only: {arg.arg} ({annotation})\")\n",
    "\n",
    "    # Keyword-only arguments (after * in signature)\n",
    "    for arg in args.kwonlyargs:\n",
    "        annotation = \"annotated\" if arg.annotation else \"not annotated\"\n",
    "        print(f\"  Keyword-only: {arg.arg} ({annotation})\")\n",
    "\n",
    "    # *args parameter (if present)\n",
    "    if args.vararg:\n",
    "        annotation = \"annotated\" if args.vararg.annotation else \"not annotated\"\n",
    "        print(f\"  Varargs: *{args.vararg.arg} ({annotation})\")\n",
    "\n",
    "    # **kwargs parameter (if present)\n",
    "    if args.kwarg:\n",
    "        annotation = \"annotated\" if args.kwarg.annotation else \"not annotated\"\n",
    "        print(f\"  Kwargs: **{args.kwarg.arg} ({annotation})\")\n",
    "\n",
    "    # Default values for positional-only and regular parameters\n",
    "    if args.defaults:\n",
    "        # args.defaults contains defaults for BOTH posonlyargs and args.args\n",
    "        # They are right-aligned across the combined list of parameters\n",
    "        all_positional_params = args.posonlyargs + args.args\n",
    "        num_params = len(all_positional_params)\n",
    "        num_defaults = len(args.defaults)\n",
    "\n",
    "        # Map defaults to the correct parameters\n",
    "        for i, default in enumerate(args.defaults):\n",
    "            param_index = num_params - num_defaults + i\n",
    "            param = all_positional_params[param_index]\n",
    "            print(f\"  Default for {param.arg}: {ast.dump(default)}\")\n",
    "\n",
    "    # Default values for keyword-only parameters\n",
    "    if args.kw_defaults:\n",
    "        for arg, default in zip(args.kwonlyargs, args.kw_defaults, strict=False):\n",
    "            if default is not None:  # kw_defaults uses None for parameters without defaults\n",
    "                print(f\"  Default for {arg.arg}: {ast.dump(default)}\")"
   ]
  },
  {
   "cell_type": "code",
   "execution_count": 10,
   "metadata": {},
   "outputs": [
    {
     "name": "stdout",
     "output_type": "stream",
     "text": [
      "Module(\n",
      "  body=[\n",
      "    FunctionDef(\n",
      "      name='complex',\n",
      "      args=arguments(\n",
      "        posonlyargs=[\n",
      "          arg(arg='a'),\n",
      "          arg(arg='b')],\n",
      "        args=[\n",
      "          arg(arg='c')],\n",
      "        vararg=arg(arg='args'),\n",
      "        kwonlyargs=[\n",
      "          arg(arg='d'),\n",
      "          arg(arg='e')],\n",
      "        kw_defaults=[\n",
      "          None,\n",
      "          Constant(value=30)],\n",
      "        kwarg=arg(arg='kwargs'),\n",
      "        defaults=[\n",
      "          Constant(value=10),\n",
      "          Constant(value=20)]),\n",
      "      body=[\n",
      "        Pass()],\n",
      "      returns=Name(id='int', ctx=Load()))])\n"
     ]
    }
   ],
   "source": [
    "# Example with complex signature:\n",
    "complex_func = \"\"\"\n",
    "def complex(a, b=10, /, c=20, *args, d, e=30, **kwargs) -> int:\n",
    "    pass\n",
    "\"\"\"\n",
    "tree = ast.parse(complex_func)\n",
    "print(ast.dump(tree, indent=2))"
   ]
  },
  {
   "cell_type": "code",
   "execution_count": 11,
   "metadata": {},
   "outputs": [
    {
     "name": "stdout",
     "output_type": "stream",
     "text": [
      "Analyzing parameters for: complex\n",
      "  Regular arg: c (not annotated)\n",
      "  Positional-only: a (not annotated)\n",
      "  Positional-only: b (not annotated)\n",
      "  Keyword-only: d (not annotated)\n",
      "  Keyword-only: e (not annotated)\n",
      "  Varargs: *args (not annotated)\n",
      "  Kwargs: **kwargs (not annotated)\n",
      "  Default for b: Constant(value=10)\n",
      "  Default for c: Constant(value=20)\n",
      "  Default for e: Constant(value=30)\n"
     ]
    }
   ],
   "source": [
    "func_node = tree.body[0]\n",
    "analyze_parameters(func_node)"
   ]
  },
  {
   "cell_type": "markdown",
   "metadata": {},
   "source": [
    "This comprehensive analysis of function parameters is essential for static analysis tools that need to understand function signatures, such as those analyzing type annotations or function complexity."
   ]
  }
 ],
 "metadata": {
  "kernelspec": {
   "display_name": "annotation-prioritizer",
   "language": "python",
   "name": "python3"
  },
  "language_info": {
   "codemirror_mode": {
    "name": "ipython",
    "version": 3
   },
   "file_extension": ".py",
   "mimetype": "text/x-python",
   "name": "python",
   "nbconvert_exporter": "python",
   "pygments_lexer": "ipython3",
   "version": "3.13.7"
  }
 },
 "nbformat": 4,
 "nbformat_minor": 4
}
